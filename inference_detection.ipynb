{
 "cells": [
  {
   "cell_type": "code",
   "execution_count": 1,
   "metadata": {},
   "outputs": [],
   "source": [
    "import os\n",
    "from PIL import Image\n",
    "import numpy as np\n",
    "import matplotlib.pyplot as plt\n",
    "import matplotlib.patches as patches\n",
    "import cv2\n",
    "import os\n",
    "os.environ[\"OPENCV_IO_MAX_IMAGE_PIXELS\"] = str(pow(2,40))"
   ]
  },
  {
   "cell_type": "code",
   "execution_count": 2,
   "metadata": {},
   "outputs": [
    {
     "name": "stderr",
     "output_type": "stream",
     "text": [
      "/opt/conda/lib/python3.10/site-packages/mmcv/__init__.py:20: UserWarning: On January 1, 2023, MMCV will release v2.0.0, in which it will remove components related to the training process and add a data transformation module. In addition, it will rename the package names mmcv to mmcv-lite and mmcv-full to mmcv. See https://github.com/open-mmlab/mmcv/blob/master/docs/en/compatibility.md for more details.\n",
      "  warnings.warn(\n",
      "/opt/conda/lib/python3.10/site-packages/tqdm/auto.py:21: TqdmWarning: IProgress not found. Please update jupyter and ipywidgets. See https://ipywidgets.readthedocs.io/en/stable/user_install.html\n",
      "  from .autonotebook import tqdm as notebook_tqdm\n",
      "INFO:albumentations.check_version:A new version of Albumentations is available: 1.4.12 (you have 1.4.10). Upgrade using: pip install --upgrade albumentations\n"
     ]
    },
    {
     "name": "stdout",
     "output_type": "stream",
     "text": [
      "/data/00.Data/AO/0-Pusan-2023-AO/C1_20230116015105_10110_00006119_L1G_PS\n",
      "time :  2023 1 16 10 51\n",
      "202301161000_dynamic.csv\n",
      "/data/00.Data/AIS-CSV-NTO-AO/2차-11개/202301161000_dynamic.csv\n",
      "#------------------ : csv exists\n"
     ]
    }
   ],
   "source": [
    "import aPack_model\n",
    "from configs import sentinel_2"
   ]
  },
  {
   "cell_type": "code",
   "execution_count": 3,
   "metadata": {},
   "outputs": [],
   "source": [
    "'''\n",
    "1. args : 이미지 경로, ais csv 경로, 탐색 옵션 등 매칭 관련 정보들 조절 \n",
    "2. model_config_file : mmrotate 에서 불러들일 모델에 대한 내용들\n",
    "3. check_point_file : ckpt 파일경로 \n",
    "'''\n",
    "\n",
    "args = sentinel_2\n",
    "model_config_file = '/root/Ship_Detection_EO/configs/roi_trans.py'\n",
    "check_point_file = '/root/Ship_Detection_EO/model_ckpts/epoch_9.pth'"
   ]
  },
  {
   "cell_type": "code",
   "execution_count": 4,
   "metadata": {},
   "outputs": [
    {
     "data": {
      "text/plain": [
       "True"
      ]
     },
     "execution_count": 4,
     "metadata": {},
     "output_type": "execute_result"
    }
   ],
   "source": [
    "args.model_test"
   ]
  },
  {
   "cell_type": "code",
   "execution_count": 5,
   "metadata": {},
   "outputs": [
    {
     "data": {
      "text/plain": [
       "'/data/00.Data/AO/0-Pusan-2023-AO/C1_20230116015105_10110_00006119_L1G_PS/0-Pusan-2023-AO_3_C1_20230116015105_10110_00006119_L1G.png'"
      ]
     },
     "execution_count": 5,
     "metadata": {},
     "output_type": "execute_result"
    }
   ],
   "source": [
    "args.img_path"
   ]
  },
  {
   "cell_type": "code",
   "execution_count": 6,
   "metadata": {},
   "outputs": [
    {
     "name": "stdout",
     "output_type": "stream",
     "text": [
      "(28880, 29600, 3)\n"
     ]
    }
   ],
   "source": [
    "img = cv2.imread(args.img_path)\n",
    "print(img.shape)"
   ]
  },
  {
   "cell_type": "code",
   "execution_count": 7,
   "metadata": {},
   "outputs": [
    {
     "name": "stderr",
     "output_type": "stream",
     "text": [
      "/opt/conda/lib/python3.10/site-packages/mmdet/models/dense_heads/anchor_head.py:116: UserWarning: DeprecationWarning: `num_anchors` is deprecated, for consistency or also use `num_base_priors` instead\n",
      "  warnings.warn('DeprecationWarning: `num_anchors` is deprecated, '\n"
     ]
    },
    {
     "name": "stdout",
     "output_type": "stream",
     "text": [
      "load checkpoint from local path: /root/Ship_Detection_EO/model_ckpts/epoch_9.pth\n",
      "#------------------- init detection\n",
      "# ---- batch_size ---------------------------- # :  32\n",
      "# ---- image sizes ---------------------------- # :  [1024]\n",
      "# ---- steps ---------------------------- # :  [896]\n"
     ]
    },
    {
     "name": "stderr",
     "output_type": "stream",
     "text": [
      "/opt/conda/lib/python3.10/site-packages/mmdet/models/dense_heads/anchor_head.py:123: UserWarning: DeprecationWarning: anchor_generator is deprecated, please use \"prior_generator\" instead\n",
      "  warnings.warn('DeprecationWarning: anchor_generator is deprecated, '\n"
     ]
    }
   ],
   "source": [
    "# --------------------------------------------------------------------------------\n",
    "# model inference\n",
    "# --------------------------------------------------------------------------------\n",
    "if args.model_test: \n",
    "    result = aPack_model.infer_model(\n",
    "        input_file_path=args.img_path,\n",
    "        checkpoint_file=check_point_file,\n",
    "        config_file=model_config_file,\n",
    "        thres=args.infer_threshold , \n",
    "        gpu_id = 0 )"
   ]
  },
  {
   "cell_type": "code",
   "execution_count": 8,
   "metadata": {},
   "outputs": [
    {
     "name": "stdout",
     "output_type": "stream",
     "text": [
      "Result Saved\n"
     ]
    }
   ],
   "source": [
    "# --------------------------------------------------------------------------------\n",
    "# Save result\n",
    "# --------------------------------------------------------------------------------\n",
    "\n",
    "save_root = \"/root/Ship_Detection_EO/outputs\"\n",
    "file_name = args.img_path.split(\"/\")[-1].split(\".\")[0]+\".npy\"    \n",
    "\n",
    "if args.model_test == False:\n",
    "    result = np.load(os.path.join(save_root,file_name))\n",
    "else:\n",
    "    print(\"Result Saved\")\n",
    "    np.save(os.path.join(save_root,file_name), result)"
   ]
  },
  {
   "cell_type": "code",
   "execution_count": 9,
   "metadata": {},
   "outputs": [
    {
     "data": {
      "text/plain": [
       "[array([[ 2.1798e+04,  2.1492e+03,  4.8351e+01,  4.5629e+01,  5.0373e-02,  9.9669e-01],\n",
       "        [ 2.1798e+04,  2.0473e+03,  4.8364e+01,  4.5905e+01,  7.8270e-02,  9.9631e-01],\n",
       "        [ 2.2102e+04,  1.5303e+04,  5.2105e+01,  5.0903e+01, -8.1607e-03,  9.9574e-01],\n",
       "        ...,\n",
       "        [ 1.0684e+04,  2.1472e+04,  2.8700e+01,  2.7924e+01, -1.6678e-01,  5.0966e-02],\n",
       "        [ 1.4311e+04,  2.4156e+04,  2.4162e+01,  2.1587e+01,  1.4466e+00,  5.0528e-02],\n",
       "        [ 6.3621e+03,  9.0215e+03,  2.5846e+01,  1.9117e+01,  1.4125e+00,  5.0343e-02]], dtype=float32)]"
      ]
     },
     "execution_count": 9,
     "metadata": {},
     "output_type": "execute_result"
    }
   ],
   "source": [
    "result"
   ]
  },
  {
   "cell_type": "code",
   "execution_count": 10,
   "metadata": {},
   "outputs": [],
   "source": [
    "import torch\n",
    "torch.cuda.empty_cache()"
   ]
  },
  {
   "cell_type": "code",
   "execution_count": 11,
   "metadata": {},
   "outputs": [
    {
     "ename": "DecompressionBombError",
     "evalue": "Image size (854848000 pixels) exceeds limit of 178956970 pixels, could be decompression bomb DOS attack.",
     "output_type": "error",
     "traceback": [
      "\u001b[0;31m---------------------------------------------------------------------------\u001b[0m",
      "\u001b[0;31mDecompressionBombError\u001b[0m                    Traceback (most recent call last)",
      "Cell \u001b[0;32mIn[11], line 6\u001b[0m\n\u001b[1;32m      1\u001b[0m \u001b[38;5;66;03m# --------------------------------------------------------------------------------\u001b[39;00m\n\u001b[1;32m      2\u001b[0m \u001b[38;5;66;03m# Bbox Show and Save \u001b[39;00m\n\u001b[1;32m      3\u001b[0m \u001b[38;5;66;03m# --------------------------------------------------------------------------------\u001b[39;00m\n\u001b[1;32m      5\u001b[0m img_path \u001b[38;5;241m=\u001b[39m args\u001b[38;5;241m.\u001b[39mimg_path\n\u001b[0;32m----> 6\u001b[0m img_ \u001b[38;5;241m=\u001b[39m \u001b[43mImage\u001b[49m\u001b[38;5;241;43m.\u001b[39;49m\u001b[43mopen\u001b[49m\u001b[43m(\u001b[49m\u001b[43mimg_path\u001b[49m\u001b[43m)\u001b[49m\n\u001b[1;32m      8\u001b[0m bboxes_ \u001b[38;5;241m=\u001b[39m [] \n\u001b[1;32m      9\u001b[0m cnt \u001b[38;5;241m=\u001b[39m \u001b[38;5;241m0\u001b[39m\n",
      "File \u001b[0;32m/opt/conda/lib/python3.10/site-packages/PIL/Image.py:3268\u001b[0m, in \u001b[0;36mopen\u001b[0;34m(fp, mode, formats)\u001b[0m\n\u001b[1;32m   3265\u001b[0m             \u001b[38;5;28;01mraise\u001b[39;00m\n\u001b[1;32m   3266\u001b[0m     \u001b[38;5;28;01mreturn\u001b[39;00m \u001b[38;5;28;01mNone\u001b[39;00m\n\u001b[0;32m-> 3268\u001b[0m im \u001b[38;5;241m=\u001b[39m \u001b[43m_open_core\u001b[49m\u001b[43m(\u001b[49m\u001b[43mfp\u001b[49m\u001b[43m,\u001b[49m\u001b[43m \u001b[49m\u001b[43mfilename\u001b[49m\u001b[43m,\u001b[49m\u001b[43m \u001b[49m\u001b[43mprefix\u001b[49m\u001b[43m,\u001b[49m\u001b[43m \u001b[49m\u001b[43mformats\u001b[49m\u001b[43m)\u001b[49m\n\u001b[1;32m   3270\u001b[0m \u001b[38;5;28;01mif\u001b[39;00m im \u001b[38;5;129;01mis\u001b[39;00m \u001b[38;5;28;01mNone\u001b[39;00m:\n\u001b[1;32m   3271\u001b[0m     \u001b[38;5;28;01mif\u001b[39;00m init():\n",
      "File \u001b[0;32m/opt/conda/lib/python3.10/site-packages/PIL/Image.py:3255\u001b[0m, in \u001b[0;36mopen.<locals>._open_core\u001b[0;34m(fp, filename, prefix, formats)\u001b[0m\n\u001b[1;32m   3253\u001b[0m         fp\u001b[38;5;241m.\u001b[39mseek(\u001b[38;5;241m0\u001b[39m)\n\u001b[1;32m   3254\u001b[0m         im \u001b[38;5;241m=\u001b[39m factory(fp, filename)\n\u001b[0;32m-> 3255\u001b[0m         \u001b[43m_decompression_bomb_check\u001b[49m\u001b[43m(\u001b[49m\u001b[43mim\u001b[49m\u001b[38;5;241;43m.\u001b[39;49m\u001b[43msize\u001b[49m\u001b[43m)\u001b[49m\n\u001b[1;32m   3256\u001b[0m         \u001b[38;5;28;01mreturn\u001b[39;00m im\n\u001b[1;32m   3257\u001b[0m \u001b[38;5;28;01mexcept\u001b[39;00m (\u001b[38;5;167;01mSyntaxError\u001b[39;00m, \u001b[38;5;167;01mIndexError\u001b[39;00m, \u001b[38;5;167;01mTypeError\u001b[39;00m, struct\u001b[38;5;241m.\u001b[39merror):\n\u001b[1;32m   3258\u001b[0m     \u001b[38;5;66;03m# Leave disabled by default, spams the logs with image\u001b[39;00m\n\u001b[1;32m   3259\u001b[0m     \u001b[38;5;66;03m# opening failures that are entirely expected.\u001b[39;00m\n\u001b[1;32m   3260\u001b[0m     \u001b[38;5;66;03m# logger.debug(\"\", exc_info=True)\u001b[39;00m\n",
      "File \u001b[0;32m/opt/conda/lib/python3.10/site-packages/PIL/Image.py:3164\u001b[0m, in \u001b[0;36m_decompression_bomb_check\u001b[0;34m(size)\u001b[0m\n\u001b[1;32m   3159\u001b[0m \u001b[38;5;28;01mif\u001b[39;00m pixels \u001b[38;5;241m>\u001b[39m \u001b[38;5;241m2\u001b[39m \u001b[38;5;241m*\u001b[39m MAX_IMAGE_PIXELS:\n\u001b[1;32m   3160\u001b[0m     msg \u001b[38;5;241m=\u001b[39m (\n\u001b[1;32m   3161\u001b[0m         \u001b[38;5;124mf\u001b[39m\u001b[38;5;124m\"\u001b[39m\u001b[38;5;124mImage size (\u001b[39m\u001b[38;5;132;01m{\u001b[39;00mpixels\u001b[38;5;132;01m}\u001b[39;00m\u001b[38;5;124m pixels) exceeds limit of \u001b[39m\u001b[38;5;132;01m{\u001b[39;00m\u001b[38;5;241m2\u001b[39m\u001b[38;5;250m \u001b[39m\u001b[38;5;241m*\u001b[39m\u001b[38;5;250m \u001b[39mMAX_IMAGE_PIXELS\u001b[38;5;132;01m}\u001b[39;00m\u001b[38;5;124m \u001b[39m\u001b[38;5;124m\"\u001b[39m\n\u001b[1;32m   3162\u001b[0m         \u001b[38;5;124m\"\u001b[39m\u001b[38;5;124mpixels, could be decompression bomb DOS attack.\u001b[39m\u001b[38;5;124m\"\u001b[39m\n\u001b[1;32m   3163\u001b[0m     )\n\u001b[0;32m-> 3164\u001b[0m     \u001b[38;5;28;01mraise\u001b[39;00m DecompressionBombError(msg)\n\u001b[1;32m   3166\u001b[0m \u001b[38;5;28;01mif\u001b[39;00m pixels \u001b[38;5;241m>\u001b[39m MAX_IMAGE_PIXELS:\n\u001b[1;32m   3167\u001b[0m     warnings\u001b[38;5;241m.\u001b[39mwarn(\n\u001b[1;32m   3168\u001b[0m         \u001b[38;5;124mf\u001b[39m\u001b[38;5;124m\"\u001b[39m\u001b[38;5;124mImage size (\u001b[39m\u001b[38;5;132;01m{\u001b[39;00mpixels\u001b[38;5;132;01m}\u001b[39;00m\u001b[38;5;124m pixels) exceeds limit of \u001b[39m\u001b[38;5;132;01m{\u001b[39;00mMAX_IMAGE_PIXELS\u001b[38;5;132;01m}\u001b[39;00m\u001b[38;5;124m pixels, \u001b[39m\u001b[38;5;124m\"\u001b[39m\n\u001b[1;32m   3169\u001b[0m         \u001b[38;5;124m\"\u001b[39m\u001b[38;5;124mcould be decompression bomb DOS attack.\u001b[39m\u001b[38;5;124m\"\u001b[39m,\n\u001b[1;32m   3170\u001b[0m         DecompressionBombWarning,\n\u001b[1;32m   3171\u001b[0m     )\n",
      "\u001b[0;31mDecompressionBombError\u001b[0m: Image size (854848000 pixels) exceeds limit of 178956970 pixels, could be decompression bomb DOS attack."
     ]
    }
   ],
   "source": [
    "# --------------------------------------------------------------------------------\n",
    "# Bbox Show and Save \n",
    "# --------------------------------------------------------------------------------\n",
    "\n",
    "img_path = args.img_path\n",
    "img_ = Image.open(img_path)\n",
    "\n",
    "bboxes_ = [] \n",
    "cnt = 0\n",
    "\n",
    "print(\"#--- inference threshold : \", args.infer_threshold)\n",
    "for r in result[0]:\n",
    "    if r[-1] > args.infer_threshold:\n",
    "        cnt+=1\n",
    "        bboxes_.append(r)\n",
    "\n",
    "plt.figure(figsize=(18,18))\n",
    "plt.imshow(img_)\n",
    "ax = plt.gca()\n",
    "\n",
    "box_cnt = 0\n",
    "for box_ in bboxes_:\n",
    "    box_cnt+=1\n",
    "    print(f\"#-------------- {box_cnt / len(bboxes_):.4f}\")\n",
    "    x = box_[0]\n",
    "    y = box_[1]\n",
    "    width = box_[2]\n",
    "    height = box_[3]\n",
    "    angle_ = box_[4]\n",
    "\n",
    "    # model 의 객체좌표가 center 중심인데, patches.Rectangle 은 좌하단을 기준점으로 보기 때문에. x,y 를 아래와 같이 shift \n",
    "    # roatate 할 때, 중심좌표 center 로 잡고, angle radian 변환해서 넣어주기 \n",
    "    path_obj = patches.Rectangle((x-width*0.5,y-height*0.5), width, height, linewidth=0.1, edgecolor=\"red\", fill=False,\n",
    "                                rotation_point=\"center\",\n",
    "                                angle=angle_*180/np.pi)\n",
    "    ax.add_patch(path_obj)\n",
    "\n",
    "plt.savefig(\"/root/Ship_Detection_EO/results/testv1\",dpi =800 )\n",
    "plt.show()"
   ]
  }
 ],
 "metadata": {
  "kernelspec": {
   "display_name": "base",
   "language": "python",
   "name": "python3"
  },
  "language_info": {
   "codemirror_mode": {
    "name": "ipython",
    "version": 3
   },
   "file_extension": ".py",
   "mimetype": "text/x-python",
   "name": "python",
   "nbconvert_exporter": "python",
   "pygments_lexer": "ipython3",
   "version": "3.10.9"
  }
 },
 "nbformat": 4,
 "nbformat_minor": 2
}
