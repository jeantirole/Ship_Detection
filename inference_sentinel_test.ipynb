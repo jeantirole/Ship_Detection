{
 "cells": [
  {
   "cell_type": "code",
   "execution_count": 1,
   "metadata": {},
   "outputs": [
    {
     "name": "stdout",
     "output_type": "stream",
     "text": [
      "/data/00.Data/AO/0-Pusan-2023-AO/C1_20230116015105_10110_00006119_L1G_PS\n",
      "time :  2023 1 16 10 51\n",
      "202301161000_dynamic.csv\n",
      "/data/00.Data/AIS-CSV-NTO-AO/2차-11개/202301161000_dynamic.csv\n",
      "#------------------ : csv exists\n"
     ]
    }
   ],
   "source": [
    "import argparse\n",
    "import os\n",
    "import json\n",
    "from PIL import Image\n",
    "import aPack_model\n",
    "import numpy as np\n",
    "import pandas as pd\n",
    "import datetime\n",
    "import utm\n",
    "import rasterio\n",
    "\n",
    "import matplotlib.pyplot as plt\n",
    "import matplotlib.patches as patches\n",
    "\n",
    "from configs import sentinel_2"
   ]
  },
  {
   "cell_type": "code",
   "execution_count": 2,
   "metadata": {},
   "outputs": [],
   "source": [
    "from utils import ais\n",
    "from utils import masking\n",
    "from utils import matching\n",
    "from utils import visual"
   ]
  },
  {
   "cell_type": "code",
   "execution_count": 3,
   "metadata": {},
   "outputs": [],
   "source": [
    "import aPack_model"
   ]
  },
  {
   "cell_type": "code",
   "execution_count": 6,
   "metadata": {},
   "outputs": [],
   "source": [
    "args = sentinel_2"
   ]
  },
  {
   "cell_type": "code",
   "execution_count": 5,
   "metadata": {},
   "outputs": [
    {
     "name": "stderr",
     "output_type": "stream",
     "text": [
      "/opt/conda/lib/python3.10/site-packages/tqdm/auto.py:21: TqdmWarning: IProgress not found. Please update jupyter and ipywidgets. See https://ipywidgets.readthedocs.io/en/stable/user_install.html\n",
      "  from .autonotebook import tqdm as notebook_tqdm\n",
      "INFO:albumentations.check_version:A new version of Albumentations is available: 1.4.12 (you have 1.4.10). Upgrade using: pip install --upgrade albumentations\n"
     ]
    },
    {
     "ename": "ImportError",
     "evalue": "cannot import name 'show_result_pyplot' from 'mmdet.apis' (/opt/conda/lib/python3.10/site-packages/mmdet/apis/__init__.py)",
     "output_type": "error",
     "traceback": [
      "\u001b[0;31m---------------------------------------------------------------------------\u001b[0m",
      "\u001b[0;31mImportError\u001b[0m                               Traceback (most recent call last)",
      "Cell \u001b[0;32mIn[5], line 2\u001b[0m\n\u001b[1;32m      1\u001b[0m \u001b[38;5;28;01mif\u001b[39;00m args\u001b[38;5;241m.\u001b[39mmodel_test:\n\u001b[0;32m----> 2\u001b[0m     result \u001b[38;5;241m=\u001b[39m \u001b[43maPack_model\u001b[49m\u001b[38;5;241;43m.\u001b[39;49m\u001b[43minfer_model\u001b[49m\u001b[43m(\u001b[49m\u001b[43minput_file_path\u001b[49m\u001b[38;5;241;43m=\u001b[39;49m\u001b[43margs\u001b[49m\u001b[38;5;241;43m.\u001b[39;49m\u001b[43mimg_path\u001b[49m\u001b[43m,\u001b[49m\u001b[43m\\\u001b[49m\n\u001b[1;32m      3\u001b[0m \u001b[43m                        \u001b[49m\u001b[43mthres\u001b[49m\u001b[38;5;241;43m=\u001b[39;49m\u001b[43margs\u001b[49m\u001b[38;5;241;43m.\u001b[39;49m\u001b[43minfer_threshold\u001b[49m\u001b[43m \u001b[49m\u001b[43m,\u001b[49m\u001b[43m \u001b[49m\u001b[43mgpu_id\u001b[49m\u001b[43m \u001b[49m\u001b[38;5;241;43m=\u001b[39;49m\u001b[43m \u001b[49m\u001b[38;5;241;43m0\u001b[39;49m\u001b[43m)\u001b[49m\n\u001b[1;32m      6\u001b[0m \u001b[38;5;66;03m#--------------------------------------------------------------------------------\u001b[39;00m\n\u001b[1;32m      7\u001b[0m save_root \u001b[38;5;241m=\u001b[39m \u001b[38;5;124m\"\u001b[39m\u001b[38;5;124m/root/Ship_Detection_EO/outputs\u001b[39m\u001b[38;5;124m\"\u001b[39m\n",
      "File \u001b[0;32m~/Ship_Detection_EO/aPack_model.py:12\u001b[0m, in \u001b[0;36minfer_model\u001b[0;34m(input_file_path, thres, gpu_id)\u001b[0m\n\u001b[1;32m     10\u001b[0m \u001b[38;5;28;01mimport\u001b[39;00m \u001b[38;5;21;01mos\u001b[39;00m\n\u001b[1;32m     11\u001b[0m os\u001b[38;5;241m.\u001b[39menviron[\u001b[38;5;124m\"\u001b[39m\u001b[38;5;124mOPENCV_IO_MAX_IMAGE_PIXELS\u001b[39m\u001b[38;5;124m\"\u001b[39m] \u001b[38;5;241m=\u001b[39m \u001b[38;5;28mstr\u001b[39m(\u001b[38;5;28mpow\u001b[39m(\u001b[38;5;241m2\u001b[39m,\u001b[38;5;241m40\u001b[39m))\n\u001b[0;32m---> 12\u001b[0m \u001b[38;5;28;01mfrom\u001b[39;00m \u001b[38;5;21;01mmmdet\u001b[39;00m\u001b[38;5;21;01m.\u001b[39;00m\u001b[38;5;21;01mapis\u001b[39;00m \u001b[38;5;28;01mimport\u001b[39;00m init_detector, show_result_pyplot\n\u001b[1;32m     13\u001b[0m \u001b[38;5;28;01mfrom\u001b[39;00m \u001b[38;5;21;01mmmrotate\u001b[39;00m\u001b[38;5;21;01m.\u001b[39;00m\u001b[38;5;21;01mapis\u001b[39;00m \u001b[38;5;28;01mimport\u001b[39;00m inference_detector_by_patches\n\u001b[1;32m     14\u001b[0m \u001b[38;5;28;01mimport\u001b[39;00m \u001b[38;5;21;01mmmrotate\u001b[39;00m\n",
      "\u001b[0;31mImportError\u001b[0m: cannot import name 'show_result_pyplot' from 'mmdet.apis' (/opt/conda/lib/python3.10/site-packages/mmdet/apis/__init__.py)"
     ]
    }
   ],
   "source": [
    "if args.model_test:\n",
    "    result = aPack_model.infer_model(input_file_path=args.img_path,\\\n",
    "                        thres=args.infer_threshold , gpu_id = 0)\n",
    "\n",
    "\n",
    "#--------------------------------------------------------------------------------\n",
    "save_root = \"/root/Ship_Detection_EO/outputs\"\n",
    "file_name = args.img_path.split(\"/\")[-1].split(\".\")[0]+\".npy\"    \n",
    "\n",
    "if args.model_test == False:\n",
    "    result = np.load(os.path.join(save_root,file_name))\n",
    "else:\n",
    "    print(\"Result Saved\")\n",
    "    np.save(os.path.join(save_root,file_name), result)"
   ]
  },
  {
   "cell_type": "code",
   "execution_count": null,
   "metadata": {},
   "outputs": [],
   "source": []
  }
 ],
 "metadata": {
  "kernelspec": {
   "display_name": "base",
   "language": "python",
   "name": "python3"
  },
  "language_info": {
   "codemirror_mode": {
    "name": "ipython",
    "version": 3
   },
   "file_extension": ".py",
   "mimetype": "text/x-python",
   "name": "python",
   "nbconvert_exporter": "python",
   "pygments_lexer": "ipython3",
   "version": "3.10.9"
  }
 },
 "nbformat": 4,
 "nbformat_minor": 2
}
