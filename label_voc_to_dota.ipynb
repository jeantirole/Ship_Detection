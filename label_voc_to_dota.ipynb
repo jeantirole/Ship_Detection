{
 "cells": [
  {
   "cell_type": "code",
   "execution_count": 1,
   "metadata": {},
   "outputs": [
    {
     "name": "stdout",
     "output_type": "stream",
     "text": [
      "176,162,204,162,204,187,176,187,ship,0\n",
      "413,178,432,178,432,194,413,194,ship,0\n"
     ]
    }
   ],
   "source": [
    "import xml.etree.ElementTree as ET\n",
    "\n",
    "def parse_xml_to_dota(xml_path):\n",
    "    tree = ET.parse(xml_path)\n",
    "    root = tree.getroot()\n",
    "    \n",
    "    dota_annotations = []\n",
    "    \n",
    "    for obj in root.findall('object'):\n",
    "        category = obj.find('name').text\n",
    "        difficult = obj.find('difficult').text\n",
    "        \n",
    "        bndbox = obj.find('bndbox')\n",
    "        xmin = int(bndbox.find('xmin').text)\n",
    "        ymin = int(bndbox.find('ymin').text)\n",
    "        xmax = int(bndbox.find('xmax').text)\n",
    "        ymax = int(bndbox.find('ymax').text)\n",
    "        \n",
    "        # Calculate the four vertices of the bounding box\n",
    "        x1, y1 = xmin, ymin\n",
    "        x2, y2 = xmax, ymin\n",
    "        x3, y3 = xmax, ymax\n",
    "        x4, y4 = xmin, ymax\n",
    "        \n",
    "        # Format for DOTA\n",
    "        dota_annotation = f\"{x1},{y1},{x2},{y2},{x3},{y3},{x4},{y4},{category},{difficult}\"\n",
    "        dota_annotations.append(dota_annotation)\n",
    "    \n",
    "    return dota_annotations\n",
    "\n",
    "\n",
    "#-----------------------------------------------------------------\n",
    "def main():\n",
    "    xml_path = '/data/00.Data/Sentinel-2-Ship/train/anns_voc/GF1_WFV1_E120.0_N36.3_20200423_L2A0004760887_10240_10752.xml'\n",
    "    dota_annotations = parse_xml_to_dota(xml_path)\n",
    "    \n",
    "    for annotation in dota_annotations:\n",
    "        print(annotation)\n",
    "\n",
    "if __name__ == \"__main__\":\n",
    "    main()\n"
   ]
  },
  {
   "cell_type": "code",
   "execution_count": 2,
   "metadata": {},
   "outputs": [
    {
     "name": "stderr",
     "output_type": "stream",
     "text": [
      "/opt/conda/lib/python3.10/site-packages/mmcv/__init__.py:20: UserWarning: On January 1, 2023, MMCV will release v2.0.0, in which it will remove components related to the training process and add a data transformation module. In addition, it will rename the package names mmcv to mmcv-lite and mmcv-full to mmcv. See https://github.com/open-mmlab/mmcv/blob/master/docs/en/compatibility.md for more details.\n",
      "  warnings.warn(\n"
     ]
    }
   ],
   "source": [
    "import mmdet"
   ]
  },
  {
   "cell_type": "code",
   "execution_count": 3,
   "metadata": {},
   "outputs": [
    {
     "name": "stdout",
     "output_type": "stream",
     "text": [
      "<module 'mmdet' from '/opt/conda/lib/python3.10/site-packages/mmdet/__init__.py'>\n"
     ]
    }
   ],
   "source": [
    "print(mmdet)"
   ]
  }
 ],
 "metadata": {
  "kernelspec": {
   "display_name": "base",
   "language": "python",
   "name": "python3"
  },
  "language_info": {
   "codemirror_mode": {
    "name": "ipython",
    "version": 3
   },
   "file_extension": ".py",
   "mimetype": "text/x-python",
   "name": "python",
   "nbconvert_exporter": "python",
   "pygments_lexer": "ipython3",
   "version": "3.10.9"
  }
 },
 "nbformat": 4,
 "nbformat_minor": 2
}
