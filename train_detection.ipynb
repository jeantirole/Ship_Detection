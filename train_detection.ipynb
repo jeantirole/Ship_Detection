{
 "cells": [
  {
   "cell_type": "code",
   "execution_count": 1,
   "metadata": {},
   "outputs": [
    {
     "name": "stdout",
     "output_type": "stream",
     "text": [
      "0.10.4\n"
     ]
    },
    {
     "name": "stderr",
     "output_type": "stream",
     "text": [
      "/opt/conda/lib/python3.10/site-packages/mmcv/__init__.py:20: UserWarning: On January 1, 2023, MMCV will release v2.0.0, in which it will remove components related to the training process and add a data transformation module. In addition, it will rename the package names mmcv to mmcv-lite and mmcv-full to mmcv. See https://github.com/open-mmlab/mmcv/blob/master/docs/en/compatibility.md for more details.\n",
      "  warnings.warn(\n",
      "/opt/conda/lib/python3.10/site-packages/tqdm/auto.py:21: TqdmWarning: IProgress not found. Please update jupyter and ipywidgets. See https://ipywidgets.readthedocs.io/en/stable/user_install.html\n",
      "  from .autonotebook import tqdm as notebook_tqdm\n",
      "INFO:albumentations.check_version:A new version of Albumentations is available: 1.4.12 (you have 1.4.10). Upgrade using: pip install --upgrade albumentations\n"
     ]
    },
    {
     "name": "stdout",
     "output_type": "stream",
     "text": [
      "1.7.2\n",
      "0.3.4\n",
      "/root/Ship_Detection_EO/mmrotate_package/mmrotate/mmrotate/__init__.py\n",
      "2.28.2\n",
      "11.7\n",
      "GCC 7.5\n"
     ]
    }
   ],
   "source": [
    "import mmengine\n",
    "print(mmengine.__version__)\n",
    "import random\n",
    "import numpy as np\n",
    "import torch\n",
    "import mmcv\n",
    "import mmrotate\n",
    "import mmdet\n",
    "from mmcv.ops import get_compiling_cuda_version, get_compiler_version\n",
    "# Check mmcv installation\n",
    "print(mmcv.__version__) #noqa E1101\n",
    "# Check MMRotate installation\n",
    "print(mmrotate.__version__)\n",
    "print(mmrotate.__file__)\n",
    "# Check MMDetection installation\n",
    "print(mmdet.__version__)\n",
    "print(get_compiling_cuda_version())\n",
    "print(get_compiler_version())"
   ]
  },
  {
   "cell_type": "code",
   "execution_count": 3,
   "metadata": {},
   "outputs": [
    {
     "name": "stdout",
     "output_type": "stream",
     "text": [
      "<module 'mmdet' from '/opt/conda/lib/python3.10/site-packages/mmdet/__init__.py'>\n"
     ]
    }
   ],
   "source": [
    "print(mmdet)"
   ]
  },
  {
   "cell_type": "code",
   "execution_count": null,
   "metadata": {},
   "outputs": [],
   "source": [
    "_base_ = './yolox_s_8xb8-300e_coco.py'\n",
    "\n",
    "# model settings\n",
    "model = dict(\n",
    "    backbone=dict(deepen_factor=1.0, widen_factor=1.0),\n",
    "    neck=dict(\n",
    "        in_channels=[256, 512, 1024], out_channels=256, num_csp_blocks=3),\n",
    "    bbox_head=dict(in_channels=256, feat_channels=256))"
   ]
  },
  {
   "cell_type": "markdown",
   "metadata": {},
   "source": []
  }
 ],
 "metadata": {
  "kernelspec": {
   "display_name": "base",
   "language": "python",
   "name": "python3"
  },
  "language_info": {
   "codemirror_mode": {
    "name": "ipython",
    "version": 3
   },
   "file_extension": ".py",
   "mimetype": "text/x-python",
   "name": "python",
   "nbconvert_exporter": "python",
   "pygments_lexer": "ipython3",
   "version": "3.10.9"
  }
 },
 "nbformat": 4,
 "nbformat_minor": 2
}
