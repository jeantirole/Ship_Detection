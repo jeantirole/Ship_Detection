{
 "cells": [
  {
   "cell_type": "code",
   "execution_count": 1,
   "metadata": {},
   "outputs": [],
   "source": [
    "from pycocotools.coco import COCO\n",
    "from pascal_voc_writer import Writer\n",
    "import argparse\n",
    "import os"
   ]
  },
  {
   "cell_type": "code",
   "execution_count": 2,
   "metadata": {},
   "outputs": [],
   "source": [
    "def coco2voc(ann_file, output_dir):\n",
    "    coco = COCO(ann_file)\n",
    "    cats = coco.loadCats(coco.getCatIds())\n",
    "    cat_idx = {}\n",
    "    for c in cats:\n",
    "        cat_idx[c['id']] = c['name']\n",
    "    for img in coco.imgs:\n",
    "        catIds = coco.getCatIds()\n",
    "        annIds = coco.getAnnIds(imgIds=[img], catIds=catIds)\n",
    "        if len(annIds) > 0:\n",
    "            img_fname = coco.imgs[img]['file_name']\n",
    "            image_fname_ls = img_fname.split('.')\n",
    "            image_fname_ls[-1] = 'xml'\n",
    "            label_fname = '.'.join(image_fname_ls)\n",
    "            writer = Writer(img_fname, coco.imgs[img]['width'], coco.imgs[img]['height'])\n",
    "            anns = coco.loadAnns(annIds)\n",
    "            for a in anns:\n",
    "                bbox = a['bbox']\n",
    "                bbox = [bbox[0], bbox[1], bbox[2] + bbox[0], bbox[3] + bbox[1]]\n",
    "                bbox = [str(b) for b in bbox]\n",
    "                catname = cat_idx[a['category_id']]\n",
    "                writer.addObject(catname, bbox[0], bbox[1], bbox[2], bbox[3])\n",
    "                writer.save(output_dir+'/'+label_fname)\n"
   ]
  },
  {
   "cell_type": "code",
   "execution_count": 5,
   "metadata": {},
   "outputs": [
    {
     "name": "stdout",
     "output_type": "stream",
     "text": [
      "loading annotations into memory...\n",
      "Done (t=0.04s)\n",
      "creating index...\n",
      "index created!\n"
     ]
    }
   ],
   "source": [
    "parser = argparse.ArgumentParser(description='Convert COCO annotations to PASCAL VOC XML annotations')\n",
    "parser.add_argument('--ann_file', default=\"/data/00.Data/Sentinel-2-Ship/instances_train2017.json\", help='Path to annotations file')\n",
    "parser.add_argument('--output_dir',default=\"/data/00.Data/Sentinel-2-Ship/train/anns_voc\", help='Path to output directory where annotations are to be stored')\n",
    "args = parser.parse_args([])\n",
    "try:\n",
    "    os.mkdir(args.output_dir)\n",
    "except FileExistsError:\n",
    "    pass\n",
    "\n",
    "coco2voc(\"/data/00.Data/Sentinel-2-Ship/instances_train2017.json\",\"/data/00.Data/Sentinel-2-Ship/train/anns_voc\" )"
   ]
  },
  {
   "cell_type": "code",
   "execution_count": 6,
   "metadata": {},
   "outputs": [
    {
     "name": "stdout",
     "output_type": "stream",
     "text": [
      "loading annotations into memory...\n",
      "Done (t=0.00s)\n",
      "creating index...\n",
      "index created!\n"
     ]
    }
   ],
   "source": [
    "coco2voc(\"/data/00.Data/Sentinel-2-Ship/instances_val2017.json\",\"/data/00.Data/Sentinel-2-Ship/valid/anns_voc\" )"
   ]
  }
 ],
 "metadata": {
  "kernelspec": {
   "display_name": "base",
   "language": "python",
   "name": "python3"
  },
  "language_info": {
   "codemirror_mode": {
    "name": "ipython",
    "version": 3
   },
   "file_extension": ".py",
   "mimetype": "text/x-python",
   "name": "python",
   "nbconvert_exporter": "python",
   "pygments_lexer": "ipython3",
   "version": "3.10.9"
  }
 },
 "nbformat": 4,
 "nbformat_minor": 2
}
